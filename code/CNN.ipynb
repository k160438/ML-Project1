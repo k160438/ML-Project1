{
 "cells": [
  {
   "cell_type": "code",
   "execution_count": 1,
   "metadata": {},
   "outputs": [
    {
     "name": "stdout",
     "output_type": "stream",
     "text": [
      "/home/chb/MachineLearning/ML-Project1\n",
      "cuda:1\n"
     ]
    }
   ],
   "source": [
    "import torch\n",
    "import torchvision\n",
    "from torchvision.transforms import ToTensor\n",
    "from torch.utils.data import DataLoader, TensorDataset\n",
    "import numpy as np\n",
    "import os\n",
    "import sys\n",
    "import random\n",
    "\n",
    "root_path = os.path.dirname(os.getcwd())\n",
    "print(root_path)\n",
    "# sys.path.append(root_path)\n",
    "# print(sys.path)\n",
    "\n",
    "np.random.seed(101)\n",
    "\n",
    "device = torch.device(\"cuda:1\"if torch.cuda.is_available() else \"cpu\")\n",
    "print(device)\n",
    "\n",
    "def setup_seed(seed):\n",
    "     torch.manual_seed(seed)\n",
    "     torch.cuda.manual_seed_all(seed)\n",
    "     np.random.seed(seed)\n",
    "     random.seed(seed)\n",
    "     torch.backends.cudnn.deterministic = True\n",
    "\n",
    "setup_seed(20)"
   ]
  },
  {
   "cell_type": "code",
   "execution_count": 2,
   "metadata": {},
   "outputs": [
    {
     "name": "stdout",
     "output_type": "stream",
     "text": [
      "torch.Size([20680, 96, 96, 3]) torch.Size([5203, 96, 96, 3])\n",
      "torch.Size([20680]) torch.Size([5203])\n",
      "torch.float64 torch.float64\n",
      "torch.Size([20680, 3, 96, 96]) torch.Size([5203, 3, 96, 96])\n",
      "torch.float64\n"
     ]
    }
   ],
   "source": [
    "\n",
    "# Load dataset\n",
    "\n",
    "X_train = torch.from_numpy(np.load(\"{}/data/X_train.npy\".format(root_path)) / 255.)\n",
    "X_test = torch.from_numpy(np.load(\"{}/data/X_test.npy\".format(root_path)) / 255.)\n",
    "y_train = np.load(\"{}/data/y_train.npy\".format(root_path))\n",
    "y_test = np.load(\"{}/data/y_test.npy\".format(root_path))\n",
    "y_train[y_train < 0] = 0\n",
    "y_test[y_test < 0] = 0\n",
    "y_train = torch.from_numpy(y_train)\n",
    "y_test = torch.from_numpy(y_test)\n",
    "print(X_train.shape, X_test.shape)\n",
    "print(y_train.shape, y_test.shape)\n",
    "print(X_train.dtype, y_train.dtype)\n",
    "X_train = torch.transpose(torch.transpose(X_train, 1, 3), 2, 3)\n",
    "X_test = torch.transpose(torch.transpose(X_test, 1, 3), 2, 3)\n",
    "print(X_train.shape, X_test.shape)\n",
    "print(X_train.dtype)\n",
    "\n",
    "train_set = TensorDataset(X_train, y_train)\n",
    "train_loader = DataLoader(train_set, batch_size=8, shuffle=True, num_workers=2)\n",
    "test_set = TensorDataset(X_test, y_test)\n",
    "test_loader = DataLoader(test_set, batch_size=8, shuffle=False, num_workers=2)\n"
   ]
  },
  {
   "cell_type": "code",
   "execution_count": 3,
   "metadata": {},
   "outputs": [
    {
     "data": {
      "text/plain": [
       "Net(\n",
       "  (conv1): Conv2d(3, 6, kernel_size=(5, 5), stride=(1, 1))\n",
       "  (pool): MaxPool2d(kernel_size=2, stride=2, padding=0, dilation=1, ceil_mode=False)\n",
       "  (conv2): Conv2d(6, 16, kernel_size=(7, 7), stride=(1, 1))\n",
       "  (conv3): Conv2d(16, 32, kernel_size=(5, 5), stride=(1, 1))\n",
       "  (fc1): Linear(in_features=2048, out_features=600, bias=True)\n",
       "  (fc2): Linear(in_features=600, out_features=150, bias=True)\n",
       "  (fc3): Linear(in_features=150, out_features=18, bias=True)\n",
       "  (fc4): Linear(in_features=18, out_features=2, bias=True)\n",
       ")"
      ]
     },
     "execution_count": 3,
     "metadata": {},
     "output_type": "execute_result"
    }
   ],
   "source": [
    "import torch.nn as nn\n",
    "import torch.nn.functional as F\n",
    "\n",
    "class Net(nn.Module):\n",
    "    def __init__(self):\n",
    "        super(Net, self).__init__()\n",
    "        self.conv1 = nn.Conv2d(3, 6, 5)\n",
    "        self.pool = nn.MaxPool2d(2, 2)\n",
    "        self.conv2 = nn.Conv2d(6, 16, 7)\n",
    "        self.conv3 = nn.Conv2d(16, 32, 5)\n",
    "        self.fc1 = nn.Linear(32*8*8, 600)\n",
    "        self.fc2 = nn.Linear(600, 150)\n",
    "        self.fc3 = nn.Linear(150, 18)\n",
    "        self.fc4 = nn.Linear(18, 2)\n",
    "        \n",
    "    def forward(self, x):\n",
    "        x = self.pool(F.relu(self.conv1(x)))\n",
    "        x = self.pool(F.relu(self.conv2(x)))\n",
    "        x = self.pool(F.relu(self.conv3(x)))\n",
    "        x = x.view(-1, 32*8*8)\n",
    "        x = F.relu(self.fc1(x))\n",
    "        x = F.relu(self.fc2(x))\n",
    "        x = F.relu(self.fc3(x))\n",
    "        x = self.fc4(x)\n",
    "        return x\n",
    "    \n",
    "net = Net()\n",
    "net.to(device)\n"
   ]
  },
  {
   "cell_type": "code",
   "execution_count": 4,
   "metadata": {
    "collapsed": true
   },
   "outputs": [],
   "source": [
    "import torch.optim as optim\n",
    "\n",
    "criterion = nn.CrossEntropyLoss()\n",
    "optimizer = optim.SGD(net.parameters(), lr=0.001, momentum=0.9)"
   ]
  },
  {
   "cell_type": "code",
   "execution_count": 5,
   "metadata": {},
   "outputs": [
    {
     "name": "stdout",
     "output_type": "stream",
     "text": [
      "[1, 200] loss: 0.58238\n",
      "[1, 400] loss: 0.51291\n",
      "[1, 600] loss: 0.51562\n",
      "[1, 800] loss: 0.48421\n",
      "[1, 1000] loss: 0.51170\n",
      "[1, 1200] loss: 0.48864\n",
      "[1, 1400] loss: 0.47753\n",
      "[1, 1600] loss: 0.50397\n",
      "[1, 1800] loss: 0.53568\n",
      "[1, 2000] loss: 0.49087\n",
      "[1, 2200] loss: 0.49462\n",
      "[1, 2400] loss: 0.49063\n",
      "[2, 200] loss: 0.49151\n",
      "[2, 400] loss: 0.46348\n",
      "[2, 600] loss: 0.47487\n",
      "[2, 800] loss: 0.50895\n",
      "[2, 1000] loss: 0.44918\n",
      "[2, 1200] loss: 0.41098\n",
      "[2, 1400] loss: 0.35033\n",
      "[2, 1600] loss: 0.25956\n",
      "[2, 1800] loss: 0.21359\n",
      "[2, 2000] loss: 0.19365\n",
      "[2, 2200] loss: 0.18501\n",
      "[2, 2400] loss: 0.17770\n",
      "[3, 200] loss: 0.11125\n",
      "[3, 400] loss: 0.12095\n",
      "[3, 600] loss: 0.13034\n",
      "[3, 800] loss: 0.10758\n",
      "[3, 1000] loss: 0.11093\n",
      "[3, 1200] loss: 0.11770\n",
      "[3, 1400] loss: 0.11877\n",
      "[3, 1600] loss: 0.08201\n",
      "[3, 1800] loss: 0.09349\n",
      "[3, 2000] loss: 0.08397\n",
      "[3, 2200] loss: 0.09326\n",
      "[3, 2400] loss: 0.05889\n",
      "[4, 200] loss: 0.07888\n",
      "[4, 400] loss: 0.07704\n",
      "[4, 600] loss: 0.06855\n",
      "[4, 800] loss: 0.08268\n",
      "[4, 1000] loss: 0.07209\n",
      "[4, 1200] loss: 0.07248\n",
      "[4, 1400] loss: 0.06512\n",
      "[4, 1600] loss: 0.06214\n",
      "[4, 1800] loss: 0.06868\n",
      "[4, 2000] loss: 0.04948\n",
      "[4, 2200] loss: 0.07103\n",
      "[4, 2400] loss: 0.06938\n",
      "[5, 200] loss: 0.04968\n",
      "[5, 400] loss: 0.05764\n",
      "[5, 600] loss: 0.04330\n",
      "[5, 800] loss: 0.05020\n",
      "[5, 1000] loss: 0.06598\n",
      "[5, 1200] loss: 0.05118\n",
      "[5, 1400] loss: 0.04650\n",
      "[5, 1600] loss: 0.05084\n",
      "[5, 1800] loss: 0.05027\n",
      "[5, 2000] loss: 0.05285\n",
      "[5, 2200] loss: 0.05390\n",
      "[5, 2400] loss: 0.05541\n",
      "[6, 200] loss: 0.03401\n",
      "[6, 400] loss: 0.03910\n",
      "[6, 600] loss: 0.03216\n",
      "[6, 800] loss: 0.04978\n",
      "[6, 1000] loss: 0.04375\n",
      "[6, 1200] loss: 0.03913\n",
      "[6, 1400] loss: 0.04802\n",
      "[6, 1600] loss: 0.04314\n",
      "[6, 1800] loss: 0.04246\n",
      "[6, 2000] loss: 0.03983\n",
      "[6, 2200] loss: 0.04288\n",
      "[6, 2400] loss: 0.03823\n",
      "[7, 200] loss: 0.04014\n",
      "[7, 400] loss: 0.03785\n",
      "[7, 600] loss: 0.03198\n",
      "[7, 800] loss: 0.03126\n",
      "[7, 1000] loss: 0.02922\n",
      "[7, 1200] loss: 0.03988\n",
      "[7, 1400] loss: 0.03381\n",
      "[7, 1600] loss: 0.02195\n",
      "[7, 1800] loss: 0.03313\n",
      "[7, 2000] loss: 0.04576\n",
      "[7, 2200] loss: 0.03638\n",
      "[7, 2400] loss: 0.03051\n",
      "Finished Training\n"
     ]
    }
   ],
   "source": [
    "for epoch in range(7):\n",
    "    \n",
    "    running_loss = 0.0\n",
    "    for i, data in enumerate(train_loader, 0):\n",
    "        inputs, labels = data\n",
    "        inputs, labels = inputs.to(device), labels.to(device)\n",
    "#         print(inputs.shape)\n",
    "        optimizer.zero_grad()\n",
    "        \n",
    "        outputs = net(inputs.float())\n",
    "        loss = criterion(outputs, labels.long())\n",
    "        loss.backward()\n",
    "        optimizer.step()\n",
    "        \n",
    "        running_loss += loss.item()\n",
    "        if i%200 == 199:\n",
    "            print(\"[{}, {}] loss: {:.5f}\".format(epoch+1, i+1, running_loss / 200))\n",
    "            running_loss = 0.0\n",
    "\n",
    "print('Finished Training')"
   ]
  },
  {
   "cell_type": "code",
   "execution_count": 8,
   "metadata": {},
   "outputs": [
    {
     "name": "stdout",
     "output_type": "stream",
     "text": [
      "Acc on 5203 test samples is: 98.21%\n"
     ]
    }
   ],
   "source": [
    "correct = 0\n",
    "total = 0\n",
    "with torch.no_grad():\n",
    "    for data in test_loader:\n",
    "        images, labels = data\n",
    "#         print(labels)\n",
    "        images = images.to(device)\n",
    "        labels = labels.to(device)\n",
    "        outputs = net(images.float())\n",
    "        _, predicted = torch.max(outputs.data, 1)\n",
    "        total += labels.size(0)\n",
    "        correct += (predicted == labels.long()).sum().item()\n",
    "\n",
    "print(\"Acc on {} test samples is: {:.2f}%\".format(total, 100*correct/total))\n",
    "\n",
    "# torch.save(net, '{}/data/mycnn.pkl'.format(root_path))\n",
    "torch.save(net.state_dict(), '{}/data/cnn_model.pkl'.format(root_path))"
   ]
  },
  {
   "cell_type": "code",
   "execution_count": null,
   "metadata": {
    "collapsed": true
   },
   "outputs": [],
   "source": []
  }
 ],
 "metadata": {
  "kernelspec": {
   "display_name": "Python 3",
   "language": "python",
   "name": "python3"
  },
  "language_info": {
   "codemirror_mode": {
    "name": "ipython",
    "version": 3
   },
   "file_extension": ".py",
   "mimetype": "text/x-python",
   "name": "python",
   "nbconvert_exporter": "python",
   "pygments_lexer": "ipython3",
   "version": "3.6.2"
  }
 },
 "nbformat": 4,
 "nbformat_minor": 2
}
